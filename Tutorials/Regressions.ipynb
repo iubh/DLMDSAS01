{
 "cells": [
  {
   "cell_type": "code",
   "execution_count": 87,
   "id": "6ccb889e-4f29-470d-ad7c-27b40f3378ef",
   "metadata": {},
   "outputs": [],
   "source": [
    "import numpy\n",
    "from scipy.optimize import minimize\n",
    "import matplotlib.pyplot as plt"
   ]
  },
  {
   "cell_type": "code",
   "execution_count": 88,
   "id": "1bc58a32-da14-44ea-844b-aebdf53b3865",
   "metadata": {},
   "outputs": [],
   "source": [
    "# define a polynomial\n",
    "def polynomial(x, arr):\n",
    "    v = 0;\n",
    "    for i in range(0, len(arr)):\n",
    "        v += arr[i]*x**i\n",
    "    return v"
   ]
  },
  {
   "cell_type": "code",
   "execution_count": 89,
   "id": "53f8dce1-2666-4feb-a476-9d1aaf371f93",
   "metadata": {},
   "outputs": [
    {
     "data": {
      "text/plain": [
       "660"
      ]
     },
     "execution_count": 89,
     "metadata": {},
     "output_type": "execute_result"
    }
   ],
   "source": [
    "# Let's try the polynomial\n",
    "polynomial(5, [5,21,22])"
   ]
  },
  {
   "cell_type": "code",
   "execution_count": 90,
   "id": "7bec6ebe-72e3-4fd4-ac47-c7f3e42b5408",
   "metadata": {},
   "outputs": [
    {
     "data": {
      "text/plain": [
       "[[-10, 5], [-5, 10], [0, 0], [5, 10], [10, 5]]"
      ]
     },
     "execution_count": 90,
     "metadata": {},
     "output_type": "execute_result"
    }
   ],
   "source": [
    "# this is our expected data\n",
    "data = [[-10,5], [-5, 10], [0,0], [5,10], [10,5]]\n",
    "data"
   ]
  },
  {
   "cell_type": "code",
   "execution_count": 91,
   "id": "7d84cd0e-c508-4f92-864d-b9c90c4dd8f3",
   "metadata": {},
   "outputs": [],
   "source": [
    "# we want to minimize the following error function (which depends on the polynomial)\n",
    "def errorfun(arr, *args):\n",
    "    v=0\n",
    "    for i in range(0,len(data)):\n",
    "        v += ( polynomial(data[i][0],arr) - data[i][1])**2\n",
    "    return v"
   ]
  },
  {
   "cell_type": "code",
   "execution_count": 117,
   "id": "f147938b-992b-4809-90c2-7766593a62ba",
   "metadata": {},
   "outputs": [
    {
     "data": {
      "text/plain": [
       "  message: Optimization terminated successfully.\n",
       "  success: True\n",
       "   status: 0\n",
       "      fun: 70.00000000000131\n",
       "        x: [ 6.000e+00 -1.315e-08 -1.009e-08]\n",
       "      nit: 10\n",
       "      jac: [-1.907e-06 -2.861e-06  3.815e-06]\n",
       " hess_inv: [[ 4.261e-02 -1.661e-03 -5.127e-04]\n",
       "            [-1.661e-03  1.986e-03  1.945e-05]\n",
       "            [-5.127e-04  1.945e-05  2.971e-05]]\n",
       "     nfev: 96\n",
       "     njev: 24"
      ]
     },
     "execution_count": 117,
     "metadata": {},
     "output_type": "execute_result"
    }
   ],
   "source": [
    "minim = minimize(errorfun, [1,1,5], 'BFGS')\n",
    "minim"
   ]
  },
  {
   "cell_type": "code",
   "execution_count": 119,
   "id": "69c4b9f2-1a48-47d9-8237-7a21d25684bf",
   "metadata": {},
   "outputs": [
    {
     "data": {
      "image/png": "[encoded data removed]",
      "text/plain": [
       "<Figure size 640x480 with 1 Axes>"
      ]
     },
     "metadata": {},
     "output_type": "display_data"
    }
   ],
   "source": [
    "approximation = minim.x\n",
    "plt.scatter(list(map(lambda x: x[0], data)), list(map(lambda x: x[1], data)), label='Data')\n",
    "linspace = numpy.linspace(-10,10, 10000)\n",
    "plt.plot(linspace, list(map(lambda x: polynomial(x, approximation), linspace)), label='Regressed polynomial')\n",
    "plt.xlabel('X'); plt.ylabel('Y'); plt.title('Regressing a polynomial')\n",
    "plt.show()"
   ]
  },
  {
   "cell_type": "code",
   "execution_count": null,
   "id": "41aa1f7f-7213-4580-b408-2f388b285560",
   "metadata": {},
   "outputs": [],
   "source": []
  }
 ],
 "metadata": {
  "kernelspec": {
   "display_name": "Python 3 (ipykernel)",
   "language": "python",
   "name": "python3"
  },
  "language_info": {
   "codemirror_mode": {
    "name": "ipython",
    "version": 3
   },
   "file_extension": ".py",
   "mimetype": "text/x-python",
   "name": "python",
   "nbconvert_exporter": "python",
   "pygments_lexer": "ipython3",
   "version": "3.12.3"
  }
 },
 "nbformat": 4,
 "nbformat_minor": 5
}
