{
 "cells": [
  {
   "cell_type": "markdown",
   "id": "9bcb794f-46f1-45c6-9bbd-7ad1e414850a",
   "metadata": {},
   "source": [
    "# Many Transformations\n",
    "\n",
    "## Advanced Statistics Tutorial\n",
    "## 2024-10-04 Paul Libbrecht CC-BY"
   ]
  },
  {
   "cell_type": "markdown",
   "id": "b2dc1384-ec7e-4081-acf1-699df257ff09",
   "metadata": {},
   "source": [
    "## The Idea of a Transformation\n",
    "* A random variable X: Ω → D ⊂ ℝⁿ\n",
    "* A mapping m: D → E\n",
    "* Obtain a transformed random variable m∘X where m∘X(ω) = m(X(ω))\n",
    "* So first you measured X(ω) , now you measure m(X(ω))\n"
   ]
  },
  {
   "cell_type": "markdown",
   "id": "22ad426f-fc34-4da5-805d-74eb73b742da",
   "metadata": {},
   "source": [
    "## Example 1d-transformation\n",
    "* Bijective, derivable... kind things\n",
    "* Displacement: d:[0,100] → [273.15, 373.15] \n",
    "\t* x ↦ x+273.15\n",
    "* Log: l:[1,100000]→[0,5]\n",
    "\t* x ↦ log₁₀(x)\n",
    "* Square: s:[0,1]→[0,1]\n",
    "\t* x ↦ x²"
   ]
  },
  {
   "cell_type": "markdown",
   "id": "262a1c34-589d-4dda-b13e-1d67d43855ad",
   "metadata": {},
   "source": [
    "## Applying a 1d-Transformation to a Uniform RV\n",
    "* Say we have random variable $X: Ω → [a,b]$\n",
    "* For displacement: $X: Ω → [0,100]$, so $m∘X: Ω → [273.15,373.15]$\n",
    "* Assume $X$ is uniform distributed $[0,100]$, i.e. $f_X(x)=\\frac{1}{100}\\mbox{ for }x∈[0,100]$, i.e. $F_X(x)=\\frac{x}{100}$\n",
    "\n",
    "$$F_{m∘X}(y) = P(m∘X(ω) \\leq y) = P(X(ω) \\leq m^{-1}(y)) = P(X(ω) \\leq y-273.15) = \\frac{y-273.15}{100} \\mbox{ for } y \\in [273.15, 373.15]$$\n",
    "\n",
    "Now derive to get the density function:\n",
    "\n",
    "$$ f_{m∘X}'(y) = \\frac{1}{100}\\mbox{ if }y\\in[273.15,373.15]$$"
   ]
  },
  {
   "cell_type": "markdown",
   "id": "e216743f-6dc1-49db-bbe5-dfc9f3bc2a8e",
   "metadata": {},
   "source": [
    "## Applying again\n",
    "* Suppose we have the RV $X: Ω → [1,100000]$, so $log∘X: Ω → [0,5]$ (log is the decimal log)\n",
    "* Density function of $X$ is $f_X(x) = \\frac{1}{100000-1}$ for $x\\in[1,100000]$\n",
    "* So CDF of $X$ is $F_X(x) = P(X(ω)\\leq x) = \\frac{x-1}{100000-1}$ for $x\\in[1,100000]$\n",
    "* Remember: $log$ is monotonous increasing\n",
    "* $log(x)=y \\Longleftrightarrow 10^y = x$\n",
    "\n",
    "$$F_{log∘X}(y)=P(log∘X(ω) \\leq y) = P(X(ω) \\leq log^{-1}(y)) = P(X(ω) \\leq e^y) = \\frac{e^y-1}{100000-1}\\mbox{ for }10^y\\in[1,100000]$$\n",
    "\n",
    "The last domain is, thus, $y\\in[0,5]$. The PDF is then:\n",
    "\n",
    "$$f_{log∘X}(y) =  \\frac{10^y}{100000-1}\\mbox{ for }10^y\\in[1,100000]$$"
   ]
  },
  {
   "cell_type": "markdown",
   "id": "2df33cdb-e2c3-4f48-924e-2d9faed0e84b",
   "metadata": {},
   "source": [
    "## Applying again\n",
    "* Suppose we have the RV $X: Ω → [0,1]$, so $s∘X: Ω → [0,1]$ with $s(x)=x^2$\n",
    "* Density function of $X$ is $f_X(x) = 1$ for $x\\in[0,1]$\n",
    "* So CDF of $X$ is $F_X(x) = P(X(ω)\\leq x) = x$ for $x\\in[0,1]$\n",
    "* Remember: $s$ is monotonous growing\n",
    "* $s(x)=y \\Longleftrightarrow \\sqrt{y} = x$\n",
    "\n",
    "$$F_{s∘X}(y)=P(s∘X(ω) \\leq y) = P(X(ω) \\leq s^{-1}(y)) = P(X(ω) \\leq \\sqrt{y}) = \\sqrt{y}\\mbox{ for }y\\in[0,1]$$\n",
    "\n",
    "The PDF is then:\n",
    "\n",
    "$$f_{s∘X}(y) =  \\frac{1}{\\sqrt{y}}\\mbox{ for }y\\in[0,1]$$"
   ]
  },
  {
   "cell_type": "markdown",
   "id": "adb3f0e3-5a57-46f9-b1c4-7bcb9661117a",
   "metadata": {},
   "source": [
    "## Rationale: The Transformation Theorem (1d)\n",
    "\n",
    "Given a random variable $X: Ω → [a,b]$ and a transformation $t:[a,b] → [c,d]$ (bijective and derivable).\n",
    "Given the density function $f_X$ of $X$, then we call the random variable $t∘X: Ω → [c,d]$ defined by $t∘X(ω) = t(X(ω))$ the _random variable $X$ transformed by $t$_. The theorem proves that:\n",
    "\n",
    "$$ f_{t∘X}(y) = f(t^{-1}(y))\\cdot \\left|(t^{-1})'(y)\\right|$$\n",
    "\n",
    "(see, e.g., Hogg & McKean Theorem 1.7.1)"
   ]
  },
  {
   "cell_type": "markdown",
   "id": "4962492b-8c0e-47b9-bad5-0577d48ce556",
   "metadata": {
    "jp-MarkdownHeadingCollapsed": true
   },
   "source": [
    "## Transforming\n",
    "\n",
    "Transformed random-variables are more interesting when you combine random variables: e.g. a random angle and a random distance... get the coordinates (see, e.g. [here](https://stackoverflow.com/questions/5408276/sampling-uniformly-distributed-random-points-inside-a-spherical-volume)).\n",
    "\n",
    "You need multidimensional random variables  $X: Ω → D ⊂ ℝ^n$.\n",
    "So you don't have a CDF anymore... but measures of sets.\n",
    "\n",
    "You need multidimensional transformations: $t: D → E⊂ ℝ^n$... and still want them to be bijective and derivable.\n",
    "\n",
    "The transformation theorem says about same but the derivative is now the Jacobian (_think: how much is the volume twisted by the transformation?_).\n",
    "\n",
    "$$ f_{t∘X}(y) = f(t^{-1}(y))\\cdot \\left|J_{t^{-1}}(y)\\right|$$\n",
    "\n",
    "(see Hogg & McKean sec 2.7)"
   ]
  },
  {
   "cell_type": "markdown",
   "id": "bed1d831-8a8b-466e-8714-161f32e6a671",
   "metadata": {},
   "source": [
    "## Combining, Transforming, Projecting\n",
    "\n",
    "Using multi-dim is particularly interesting to compute simple operations between multiple random variables.\n",
    "For example the sum of two (independent) variables $\\Gamma-$variables $X:→ ℝ^+$ and $Y:→ ℝ^+$:\n",
    "\n",
    "* Join the random-variables, obtain $Z: Ω → ℝ^+ \\times ℝ^+$ (the pdf is the product)\n",
    "* Transform, e.g. $t: ℝ^+ \\times ℝ^+ → D$ with $t(x,y) = (x+y, x-y) = (u,v)$ (note: define $D$ !)\n",
    "* Obtain the pdf of the transformed random variable\n",
    "* The pdf $f_{X+Y}$ is the marginal distribution: $f_{X+Y}(u) = \\int_v f_{t∘Z}(u,v)\\cdot dv$"
   ]
  },
  {
   "cell_type": "code",
   "execution_count": null,
   "id": "a2ec44a7-80de-4ade-b76a-740803f3c3b5",
   "metadata": {},
   "outputs": [],
   "source": []
  }
 ],
 "metadata": {
  "kernelspec": {
   "display_name": "Python 3 (ipykernel)",
   "language": "python",
   "name": "python3"
  },
  "language_info": {
   "codemirror_mode": {
    "name": "ipython",
    "version": 3
   },
   "file_extension": ".py",
   "mimetype": "text/x-python",
   "name": "python",
   "nbconvert_exporter": "python",
   "pygments_lexer": "ipython3",
   "version": "3.12.7"
  }
 },
 "nbformat": 4,
 "nbformat_minor": 5
}
